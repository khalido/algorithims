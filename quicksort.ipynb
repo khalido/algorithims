{
 "cells": [
  {
   "cell_type": "markdown",
   "metadata": {},
   "source": [
    "# recursive quicksort\n",
    "\n",
    "sort an array by choosing a point in the array, called the pivot point, then creating two smaller arrays:\n",
    "Keep in mind an array of size one is already sorted, so no need to sort that.\n",
    "\n",
    "- choose a point, called the pivot point\n",
    "- make an array containing everything smaller or equal to the pivot\n",
    "- second array containing everything bigger than the pivot\n",
    "- so the answer is just quicksort(smaller_array) + pivot + quicksort(bigger_array)\n",
    "\n",
    "first to generate some random data:"
   ]
  },
  {
   "cell_type": "code",
   "execution_count": 94,
   "metadata": {},
   "outputs": [
    {
     "data": {
      "text/plain": [
       "[85, 36, 47, 30, 4, 11, 27, 9, 12, 51]"
      ]
     },
     "execution_count": 94,
     "metadata": {},
     "output_type": "execute_result"
    }
   ],
   "source": [
    "import random\n",
    "\n",
    "random_data = [random.randint(0,100) for i in range(10)]\n",
    "random_data[:10]"
   ]
  },
  {
   "cell_type": "code",
   "execution_count": 95,
   "metadata": {},
   "outputs": [
    {
     "data": {
      "text/plain": [
       "[4, 9, 11, 12, 27, 30, 36, 47, 51, 85]"
      ]
     },
     "execution_count": 95,
     "metadata": {},
     "output_type": "execute_result"
    }
   ],
   "source": [
    "def quicksort(data):\n",
    "    if len(data) < 2:\n",
    "        return data\n",
    "    else:   \n",
    "        pivot = data[0]\n",
    "        less = [i for i in data[1:] if i <= pivot]\n",
    "        more = [i for i in data[1:] if i > pivot]\n",
    "        return quicksort(less) + [pivot] + quicksort(more)\n",
    "\n",
    "quicksort(random_data)"
   ]
  },
  {
   "cell_type": "markdown",
   "metadata": {},
   "source": [
    "# using a random pivot\n",
    "\n",
    "Quicksort works faster when using a random pivot"
   ]
  },
  {
   "cell_type": "code",
   "execution_count": 143,
   "metadata": {},
   "outputs": [
    {
     "data": {
      "text/plain": [
       "[4, 9, 11, 12, 27, 30, 36, 47, 51, 85]"
      ]
     },
     "execution_count": 143,
     "metadata": {},
     "output_type": "execute_result"
    }
   ],
   "source": [
    "def quicksort2(data):\n",
    "    import random\n",
    "    if len(data) < 2:\n",
    "        return data\n",
    "    else:\n",
    "        p_idx = random.randrange(0,len(data)-1)\n",
    "        pivot = data[p_idx]\n",
    "        \n",
    "        less = [i for i in data[:p_idx] if i <= pivot] + [i for i in data[p_idx+1:] if i <= pivot]\n",
    "        more = [i for i in data[:p_idx] if i > pivot] + [i for i in data[p_idx+1:] if i > pivot]\n",
    "        return quicksort2(less) + [pivot] + quicksort2(more)\n",
    "\n",
    "quicksort2(random_data)"
   ]
  },
  {
   "cell_type": "markdown",
   "metadata": {},
   "source": [
    "## some tests to make sure the algos are working correctly"
   ]
  },
  {
   "cell_type": "code",
   "execution_count": 107,
   "metadata": {},
   "outputs": [],
   "source": [
    "assert len(random_data) == len(quicksort(random_data))\n",
    "assert quicksort(random_data) == quicksort2(random_data) == sorted(random_data)"
   ]
  },
  {
   "cell_type": "code",
   "execution_count": 112,
   "metadata": {},
   "outputs": [
    {
     "name": "stdout",
     "output_type": "stream",
     "text": [
      "19.1 µs ± 639 ns per loop (mean ± std. dev. of 7 runs, 100000 loops each)\n"
     ]
    }
   ],
   "source": [
    "%timeit(quicksort(random_data))"
   ]
  },
  {
   "cell_type": "code",
   "execution_count": 113,
   "metadata": {},
   "outputs": [
    {
     "name": "stdout",
     "output_type": "stream",
     "text": [
      "41.9 µs ± 1.06 µs per loop (mean ± std. dev. of 7 runs, 10000 loops each)\n"
     ]
    }
   ],
   "source": [
    "%timeit(quicksort2(random_data))"
   ]
  },
  {
   "cell_type": "markdown",
   "metadata": {},
   "source": [
    "## visualizing quicksort\n",
    "\n",
    "there are many "
   ]
  },
  {
   "cell_type": "code",
   "execution_count": 197,
   "metadata": {
    "collapsed": true
   },
   "outputs": [],
   "source": [
    "%matplotlib inline\n",
    "import matplotlib.pyplot as plt\n",
    "import seaborn as sns"
   ]
  },
  {
   "cell_type": "code",
   "execution_count": 123,
   "metadata": {},
   "outputs": [
    {
     "data": {
      "text/plain": [
       "[36, 30, 4, 11, 27, 9, 12, 47, 85, 51]"
      ]
     },
     "execution_count": 123,
     "metadata": {},
     "output_type": "execute_result"
    }
   ],
   "source": [
    "def quicksort_onestep(data):\n",
    "    import random\n",
    "    if len(data) < 2:\n",
    "        return data\n",
    "    else:\n",
    "        p_idx = random.randrange(0,len(data)-1)\n",
    "        pivot = data[p_idx]\n",
    "        \n",
    "        less = [i for i in data[:p_idx] if i <= pivot] + [i for i in data[p_idx+1:] if i <= pivot]\n",
    "        more = [i for i in data[:p_idx] if i > pivot] + [i for i in data[p_idx+1:] if i > pivot]\n",
    "        return less + [pivot] + more\n",
    "\n",
    "quicksort_onestep(random_data)"
   ]
  },
  {
   "cell_type": "code",
   "execution_count": 200,
   "metadata": {},
   "outputs": [
    {
     "data": {
      "text/plain": [
       "<matplotlib.legend.Legend at 0x11dfca160>"
      ]
     },
     "execution_count": 200,
     "metadata": {},
     "output_type": "execute_result"
    },
    {
     "data": {
      "image/png": "[encoded data removed]",
      "text/plain": [
       "<matplotlib.figure.Figure at 0x11dfca390>"
      ]
     },
     "metadata": {},
     "output_type": "display_data"
    }
   ],
   "source": [
    "def compare_lists(a, b):\n",
    "    assert len(a) == len(b)\n",
    "    for pair in zip(a, b):\n",
    "        if pair[0] != pair[1]:\n",
    "            return False\n",
    "    return True\n",
    "\n",
    "sorted_data = quicksort2(random_data)\n",
    "plt.plot(random_data, label=\"initial data\", lw=3, ls=\"dashed\")\n",
    "\n",
    "# first quicksort step\n",
    "d = quicksort_onestep(random_data)\n",
    "plt.plot(d, alpha=0.5, lw=0.8, label=\"first pass\")\n",
    "\n",
    "#rest of quicksort steps\n",
    "q_pass = 1\n",
    "while not (compare_lists(sorted_data, d)):\n",
    "    q_pass += 1\n",
    "    d = quicksort_onestep(d)\n",
    "    if compare_lists(d, sorted_data):\n",
    "        plt.plot(sorted_data, c=\"r\", ls=\"dashed\", lw=3, label=\"sorted\")\n",
    "    else:\n",
    "        plt.plot(d, alpha=0.5, lw=0.8, label=q_pass)\n",
    "\n",
    "plt.legend()"
   ]
  },
  {
   "cell_type": "code",
   "execution_count": null,
   "metadata": {
    "collapsed": true
   },
   "outputs": [],
   "source": []
  }
 ],
 "metadata": {
  "kernelspec": {
   "display_name": "Python 3",
   "language": "python",
   "name": "python3"
  },
  "language_info": {
   "codemirror_mode": {
    "name": "ipython",
    "version": 3
   },
   "file_extension": ".py",
   "mimetype": "text/x-python",
   "name": "python",
   "nbconvert_exporter": "python",
   "pygments_lexer": "ipython3",
   "version": "3.6.1"
  }
 },
 "nbformat": 4,
 "nbformat_minor": 2
}
