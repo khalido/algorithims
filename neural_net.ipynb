{
 "cells": [
  {
   "cell_type": "markdown",
   "metadata": {},
   "source": [
    "# a simple neural network\n",
    "\n",
    "make a basic neural network which can predict something useful, like predicting the digits in the [mnist database of handwritten digits](http://yann.lecun.com/exdb/mnist/).\n",
    "\n",
    "- Input: each digit is 28*28 pixels, so 784 pixels in total\n",
    "- Hidden layer: tinker around\n",
    "- Output layer: 10 outputs, to indicate one of the ten possible numbers"
   ]
  },
  {
   "cell_type": "code",
   "execution_count": 22,
   "metadata": {},
   "outputs": [
    {
     "data": {
      "text/plain": [
       "((784, 20), (20, 10))"
      ]
     },
     "execution_count": 22,
     "metadata": {},
     "output_type": "execute_result"
    }
   ],
   "source": [
    "import numpy as np\n",
    "\n",
    "class NeuralNetwork(object):\n",
    "    \n",
    "    def __init__(self):\n",
    "        self.input_layer = 28*28\n",
    "        self.hidden_layer = 20\n",
    "        self.output_layer = 10\n",
    "        \n",
    "        self.weigths_input_hidden = np.random.randn(self.input_layer,self.hidden_layer)\n",
    "        self.weights_hidden_output = np.random.randn(self.hidden_layer,self.output_layer)\n",
    "        self.biases_input_hidden = np.random.randn(self.hidden_layer)\n",
    "        self.biases_hidden_output = np.random.randn(self.output_layer)\n",
    "    \n",
    "    def sigmoid(x):\n",
    "        return 1.0/(1.0+np.exp(-x))\n",
    "\n",
    "n = NeuralNetwork()\n",
    "n.weigths_input_hidden.shape, n.weights_hidden_output.shape"
   ]
  },
  {
   "cell_type": "code",
   "execution_count": 25,
   "metadata": {},
   "outputs": [
    {
     "ename": "TypeError",
     "evalue": "sigmoid() takes 1 positional argument but 2 were given",
     "output_type": "error",
     "traceback": [
      "\u001b[0;31m---------------------------------------------------------------------------\u001b[0m",
      "\u001b[0;31mTypeError\u001b[0m                                 Traceback (most recent call last)",
      "\u001b[0;32m<ipython-input-25-0cde937b030e>\u001b[0m in \u001b[0;36m<module>\u001b[0;34m()\u001b[0m\n\u001b[0;32m----> 1\u001b[0;31m \u001b[0mn\u001b[0m\u001b[0;34m.\u001b[0m\u001b[0msigmoid\u001b[0m\u001b[0;34m(\u001b[0m\u001b[0;36m1.1\u001b[0m\u001b[0;34m)\u001b[0m\u001b[0;34m\u001b[0m\u001b[0m\n\u001b[0m",
      "\u001b[0;31mTypeError\u001b[0m: sigmoid() takes 1 positional argument but 2 were given"
     ]
    }
   ],
   "source": [
    "n.sigmoid(1.1)"
   ]
  },
  {
   "cell_type": "code",
   "execution_count": null,
   "metadata": {
    "collapsed": true
   },
   "outputs": [],
   "source": []
  }
 ],
 "metadata": {
  "kernelspec": {
   "display_name": "Python 3",
   "language": "python",
   "name": "python3"
  },
  "language_info": {
   "codemirror_mode": {
    "name": "ipython",
    "version": 3
   },
   "file_extension": ".py",
   "mimetype": "text/x-python",
   "name": "python",
   "nbconvert_exporter": "python",
   "pygments_lexer": "ipython3",
   "version": "3.6.1"
  }
 },
 "nbformat": 4,
 "nbformat_minor": 2
}
